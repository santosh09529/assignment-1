{
 "cells": [
  {
   "cell_type": "code",
   "execution_count": 1,
   "id": "46f55d2a",
   "metadata": {
    "_cell_guid": "b1076dfc-b9ad-4769-8c92-a6c4dae69d19",
    "_uuid": "8f2839f25d086af736a60e9eeb907d3b93b6e0e5",
    "execution": {
     "iopub.execute_input": "2024-09-06T05:05:37.424286Z",
     "iopub.status.busy": "2024-09-06T05:05:37.423722Z",
     "iopub.status.idle": "2024-09-06T05:05:40.020064Z",
     "shell.execute_reply": "2024-09-06T05:05:40.018375Z"
    },
    "papermill": {
     "duration": 2.616957,
     "end_time": "2024-09-06T05:05:40.023219",
     "exception": false,
     "start_time": "2024-09-06T05:05:37.406262",
     "status": "completed"
    },
    "tags": []
   },
   "outputs": [],
   "source": [
    "import pandas as pd\n",
    "import matplotlib.pyplot as plt\n",
    "import seaborn as sns"
   ]
  },
  {
   "cell_type": "code",
   "execution_count": 2,
   "id": "e68f1d6a",
   "metadata": {
    "execution": {
     "iopub.execute_input": "2024-09-06T05:05:40.051152Z",
     "iopub.status.busy": "2024-09-06T05:05:40.050539Z",
     "iopub.status.idle": "2024-09-06T05:05:40.100486Z",
     "shell.execute_reply": "2024-09-06T05:05:40.098782Z"
    },
    "papermill": {
     "duration": 0.067541,
     "end_time": "2024-09-06T05:05:40.103871",
     "exception": false,
     "start_time": "2024-09-06T05:05:40.036330",
     "status": "completed"
    },
    "tags": []
   },
   "outputs": [],
   "source": [
    "data = pd.read_csv(\"/kaggle/input/water-quality-prediction/water_potability.csv\")"
   ]
  },
  {
   "cell_type": "code",
   "execution_count": 3,
   "id": "fb412b62",
   "metadata": {
    "execution": {
     "iopub.execute_input": "2024-09-06T05:05:40.133862Z",
     "iopub.status.busy": "2024-09-06T05:05:40.132482Z",
     "iopub.status.idle": "2024-09-06T05:05:40.169351Z",
     "shell.execute_reply": "2024-09-06T05:05:40.167138Z"
    },
    "papermill": {
     "duration": 0.056124,
     "end_time": "2024-09-06T05:05:40.173384",
     "exception": false,
     "start_time": "2024-09-06T05:05:40.117260",
     "status": "completed"
    },
    "tags": []
   },
   "outputs": [
    {
     "data": {
      "text/html": [
       "<div>\n",
       "<style scoped>\n",
       "    .dataframe tbody tr th:only-of-type {\n",
       "        vertical-align: middle;\n",
       "    }\n",
       "\n",
       "    .dataframe tbody tr th {\n",
       "        vertical-align: top;\n",
       "    }\n",
       "\n",
       "    .dataframe thead th {\n",
       "        text-align: right;\n",
       "    }\n",
       "</style>\n",
       "<table border=\"1\" class=\"dataframe\">\n",
       "  <thead>\n",
       "    <tr style=\"text-align: right;\">\n",
       "      <th></th>\n",
       "      <th>ph</th>\n",
       "      <th>Hardness</th>\n",
       "      <th>Solids</th>\n",
       "      <th>Chloramines</th>\n",
       "      <th>Sulfate</th>\n",
       "      <th>Conductivity</th>\n",
       "      <th>Organic_carbon</th>\n",
       "      <th>Trihalomethanes</th>\n",
       "      <th>Turbidity</th>\n",
       "      <th>Potability</th>\n",
       "    </tr>\n",
       "  </thead>\n",
       "  <tbody>\n",
       "    <tr>\n",
       "      <th>0</th>\n",
       "      <td>NaN</td>\n",
       "      <td>204.890455</td>\n",
       "      <td>20791.318981</td>\n",
       "      <td>7.300212</td>\n",
       "      <td>368.516441</td>\n",
       "      <td>564.308654</td>\n",
       "      <td>10.379783</td>\n",
       "      <td>86.990970</td>\n",
       "      <td>2.963135</td>\n",
       "      <td>0</td>\n",
       "    </tr>\n",
       "    <tr>\n",
       "      <th>1</th>\n",
       "      <td>3.716080</td>\n",
       "      <td>129.422921</td>\n",
       "      <td>18630.057858</td>\n",
       "      <td>6.635246</td>\n",
       "      <td>NaN</td>\n",
       "      <td>592.885359</td>\n",
       "      <td>15.180013</td>\n",
       "      <td>56.329076</td>\n",
       "      <td>4.500656</td>\n",
       "      <td>0</td>\n",
       "    </tr>\n",
       "    <tr>\n",
       "      <th>2</th>\n",
       "      <td>8.099124</td>\n",
       "      <td>224.236259</td>\n",
       "      <td>19909.541732</td>\n",
       "      <td>9.275884</td>\n",
       "      <td>NaN</td>\n",
       "      <td>418.606213</td>\n",
       "      <td>16.868637</td>\n",
       "      <td>66.420093</td>\n",
       "      <td>3.055934</td>\n",
       "      <td>0</td>\n",
       "    </tr>\n",
       "    <tr>\n",
       "      <th>3</th>\n",
       "      <td>8.316766</td>\n",
       "      <td>214.373394</td>\n",
       "      <td>22018.417441</td>\n",
       "      <td>8.059332</td>\n",
       "      <td>356.886136</td>\n",
       "      <td>363.266516</td>\n",
       "      <td>18.436524</td>\n",
       "      <td>100.341674</td>\n",
       "      <td>4.628771</td>\n",
       "      <td>0</td>\n",
       "    </tr>\n",
       "    <tr>\n",
       "      <th>4</th>\n",
       "      <td>9.092223</td>\n",
       "      <td>181.101509</td>\n",
       "      <td>17978.986339</td>\n",
       "      <td>6.546600</td>\n",
       "      <td>310.135738</td>\n",
       "      <td>398.410813</td>\n",
       "      <td>11.558279</td>\n",
       "      <td>31.997993</td>\n",
       "      <td>4.075075</td>\n",
       "      <td>0</td>\n",
       "    </tr>\n",
       "  </tbody>\n",
       "</table>\n",
       "</div>"
      ],
      "text/plain": [
       "         ph    Hardness        Solids  Chloramines     Sulfate  Conductivity  \\\n",
       "0       NaN  204.890455  20791.318981     7.300212  368.516441    564.308654   \n",
       "1  3.716080  129.422921  18630.057858     6.635246         NaN    592.885359   \n",
       "2  8.099124  224.236259  19909.541732     9.275884         NaN    418.606213   \n",
       "3  8.316766  214.373394  22018.417441     8.059332  356.886136    363.266516   \n",
       "4  9.092223  181.101509  17978.986339     6.546600  310.135738    398.410813   \n",
       "\n",
       "   Organic_carbon  Trihalomethanes  Turbidity  Potability  \n",
       "0       10.379783        86.990970   2.963135           0  \n",
       "1       15.180013        56.329076   4.500656           0  \n",
       "2       16.868637        66.420093   3.055934           0  \n",
       "3       18.436524       100.341674   4.628771           0  \n",
       "4       11.558279        31.997993   4.075075           0  "
      ]
     },
     "execution_count": 3,
     "metadata": {},
     "output_type": "execute_result"
    }
   ],
   "source": [
    "data.head()"
   ]
  },
  {
   "cell_type": "code",
   "execution_count": 4,
   "id": "215a75b8",
   "metadata": {
    "execution": {
     "iopub.execute_input": "2024-09-06T05:05:40.206159Z",
     "iopub.status.busy": "2024-09-06T05:05:40.204756Z",
     "iopub.status.idle": "2024-09-06T05:05:40.215567Z",
     "shell.execute_reply": "2024-09-06T05:05:40.213910Z"
    },
    "papermill": {
     "duration": 0.030393,
     "end_time": "2024-09-06T05:05:40.218711",
     "exception": false,
     "start_time": "2024-09-06T05:05:40.188318",
     "status": "completed"
    },
    "tags": []
   },
   "outputs": [
    {
     "data": {
      "text/plain": [
       "(3276, 10)"
      ]
     },
     "execution_count": 4,
     "metadata": {},
     "output_type": "execute_result"
    }
   ],
   "source": [
    "\n",
    "data.shape"
   ]
  },
  {
   "cell_type": "code",
   "execution_count": 5,
   "id": "b8788b03",
   "metadata": {
    "execution": {
     "iopub.execute_input": "2024-09-06T05:05:40.247983Z",
     "iopub.status.busy": "2024-09-06T05:05:40.247471Z",
     "iopub.status.idle": "2024-09-06T05:05:40.278887Z",
     "shell.execute_reply": "2024-09-06T05:05:40.276846Z"
    },
    "papermill": {
     "duration": 0.050079,
     "end_time": "2024-09-06T05:05:40.282321",
     "exception": false,
     "start_time": "2024-09-06T05:05:40.232242",
     "status": "completed"
    },
    "tags": []
   },
   "outputs": [
    {
     "name": "stdout",
     "output_type": "stream",
     "text": [
      "<class 'pandas.core.frame.DataFrame'>\n",
      "RangeIndex: 3276 entries, 0 to 3275\n",
      "Data columns (total 10 columns):\n",
      " #   Column           Non-Null Count  Dtype  \n",
      "---  ------           --------------  -----  \n",
      " 0   ph               2785 non-null   float64\n",
      " 1   Hardness         3276 non-null   float64\n",
      " 2   Solids           3276 non-null   float64\n",
      " 3   Chloramines      3276 non-null   float64\n",
      " 4   Sulfate          2495 non-null   float64\n",
      " 5   Conductivity     3276 non-null   float64\n",
      " 6   Organic_carbon   3276 non-null   float64\n",
      " 7   Trihalomethanes  3114 non-null   float64\n",
      " 8   Turbidity        3276 non-null   float64\n",
      " 9   Potability       3276 non-null   int64  \n",
      "dtypes: float64(9), int64(1)\n",
      "memory usage: 256.1 KB\n"
     ]
    }
   ],
   "source": [
    "data.info()"
   ]
  },
  {
   "cell_type": "code",
   "execution_count": 6,
   "id": "fdcea2c6",
   "metadata": {
    "execution": {
     "iopub.execute_input": "2024-09-06T05:05:40.311749Z",
     "iopub.status.busy": "2024-09-06T05:05:40.311207Z",
     "iopub.status.idle": "2024-09-06T05:05:40.323705Z",
     "shell.execute_reply": "2024-09-06T05:05:40.322023Z"
    },
    "papermill": {
     "duration": 0.031384,
     "end_time": "2024-09-06T05:05:40.327108",
     "exception": false,
     "start_time": "2024-09-06T05:05:40.295724",
     "status": "completed"
    },
    "tags": []
   },
   "outputs": [
    {
     "data": {
      "text/plain": [
       "ph                 491\n",
       "Hardness             0\n",
       "Solids               0\n",
       "Chloramines          0\n",
       "Sulfate            781\n",
       "Conductivity         0\n",
       "Organic_carbon       0\n",
       "Trihalomethanes    162\n",
       "Turbidity            0\n",
       "Potability           0\n",
       "dtype: int64"
      ]
     },
     "execution_count": 6,
     "metadata": {},
     "output_type": "execute_result"
    }
   ],
   "source": [
    "data.isnull().sum()"
   ]
  },
  {
   "cell_type": "code",
   "execution_count": 7,
   "id": "1ddea952",
   "metadata": {
    "execution": {
     "iopub.execute_input": "2024-09-06T05:05:40.356955Z",
     "iopub.status.busy": "2024-09-06T05:05:40.356487Z",
     "iopub.status.idle": "2024-09-06T05:05:40.371436Z",
     "shell.execute_reply": "2024-09-06T05:05:40.370210Z"
    },
    "papermill": {
     "duration": 0.033516,
     "end_time": "2024-09-06T05:05:40.374424",
     "exception": false,
     "start_time": "2024-09-06T05:05:40.340908",
     "status": "completed"
    },
    "tags": []
   },
   "outputs": [],
   "source": [
    "data.fillna(data.mean(),inplace=True)"
   ]
  },
  {
   "cell_type": "code",
   "execution_count": 8,
   "id": "7367fa93",
   "metadata": {
    "execution": {
     "iopub.execute_input": "2024-09-06T05:05:40.405095Z",
     "iopub.status.busy": "2024-09-06T05:05:40.404599Z",
     "iopub.status.idle": "2024-09-06T05:05:40.419206Z",
     "shell.execute_reply": "2024-09-06T05:05:40.417702Z"
    },
    "papermill": {
     "duration": 0.033935,
     "end_time": "2024-09-06T05:05:40.422380",
     "exception": false,
     "start_time": "2024-09-06T05:05:40.388445",
     "status": "completed"
    },
    "tags": []
   },
   "outputs": [
    {
     "data": {
      "text/plain": [
       "ph                 0\n",
       "Hardness           0\n",
       "Solids             0\n",
       "Chloramines        0\n",
       "Sulfate            0\n",
       "Conductivity       0\n",
       "Organic_carbon     0\n",
       "Trihalomethanes    0\n",
       "Turbidity          0\n",
       "Potability         0\n",
       "dtype: int64"
      ]
     },
     "execution_count": 8,
     "metadata": {},
     "output_type": "execute_result"
    }
   ],
   "source": [
    "data.isnull().sum()"
   ]
  },
  {
   "cell_type": "code",
   "execution_count": 9,
   "id": "8ed10247",
   "metadata": {
    "execution": {
     "iopub.execute_input": "2024-09-06T05:05:40.455889Z",
     "iopub.status.busy": "2024-09-06T05:05:40.454752Z",
     "iopub.status.idle": "2024-09-06T05:05:40.506419Z",
     "shell.execute_reply": "2024-09-06T05:05:40.504751Z"
    },
    "papermill": {
     "duration": 0.071327,
     "end_time": "2024-09-06T05:05:40.509911",
     "exception": false,
     "start_time": "2024-09-06T05:05:40.438584",
     "status": "completed"
    },
    "tags": []
   },
   "outputs": [
    {
     "data": {
      "text/html": [
       "<div>\n",
       "<style scoped>\n",
       "    .dataframe tbody tr th:only-of-type {\n",
       "        vertical-align: middle;\n",
       "    }\n",
       "\n",
       "    .dataframe tbody tr th {\n",
       "        vertical-align: top;\n",
       "    }\n",
       "\n",
       "    .dataframe thead th {\n",
       "        text-align: right;\n",
       "    }\n",
       "</style>\n",
       "<table border=\"1\" class=\"dataframe\">\n",
       "  <thead>\n",
       "    <tr style=\"text-align: right;\">\n",
       "      <th></th>\n",
       "      <th>ph</th>\n",
       "      <th>Hardness</th>\n",
       "      <th>Solids</th>\n",
       "      <th>Chloramines</th>\n",
       "      <th>Sulfate</th>\n",
       "      <th>Conductivity</th>\n",
       "      <th>Organic_carbon</th>\n",
       "      <th>Trihalomethanes</th>\n",
       "      <th>Turbidity</th>\n",
       "      <th>Potability</th>\n",
       "    </tr>\n",
       "  </thead>\n",
       "  <tbody>\n",
       "    <tr>\n",
       "      <th>count</th>\n",
       "      <td>3276.000000</td>\n",
       "      <td>3276.000000</td>\n",
       "      <td>3276.000000</td>\n",
       "      <td>3276.000000</td>\n",
       "      <td>3276.000000</td>\n",
       "      <td>3276.000000</td>\n",
       "      <td>3276.000000</td>\n",
       "      <td>3276.000000</td>\n",
       "      <td>3276.000000</td>\n",
       "      <td>3276.000000</td>\n",
       "    </tr>\n",
       "    <tr>\n",
       "      <th>mean</th>\n",
       "      <td>7.080795</td>\n",
       "      <td>196.369496</td>\n",
       "      <td>22014.092526</td>\n",
       "      <td>7.122277</td>\n",
       "      <td>333.775777</td>\n",
       "      <td>426.205111</td>\n",
       "      <td>14.284970</td>\n",
       "      <td>66.396293</td>\n",
       "      <td>3.966786</td>\n",
       "      <td>0.390110</td>\n",
       "    </tr>\n",
       "    <tr>\n",
       "      <th>std</th>\n",
       "      <td>1.469956</td>\n",
       "      <td>32.879761</td>\n",
       "      <td>8768.570828</td>\n",
       "      <td>1.583085</td>\n",
       "      <td>36.142612</td>\n",
       "      <td>80.824064</td>\n",
       "      <td>3.308162</td>\n",
       "      <td>15.769881</td>\n",
       "      <td>0.780382</td>\n",
       "      <td>0.487849</td>\n",
       "    </tr>\n",
       "    <tr>\n",
       "      <th>min</th>\n",
       "      <td>0.000000</td>\n",
       "      <td>47.432000</td>\n",
       "      <td>320.942611</td>\n",
       "      <td>0.352000</td>\n",
       "      <td>129.000000</td>\n",
       "      <td>181.483754</td>\n",
       "      <td>2.200000</td>\n",
       "      <td>0.738000</td>\n",
       "      <td>1.450000</td>\n",
       "      <td>0.000000</td>\n",
       "    </tr>\n",
       "    <tr>\n",
       "      <th>25%</th>\n",
       "      <td>6.277673</td>\n",
       "      <td>176.850538</td>\n",
       "      <td>15666.690297</td>\n",
       "      <td>6.127421</td>\n",
       "      <td>317.094638</td>\n",
       "      <td>365.734414</td>\n",
       "      <td>12.065801</td>\n",
       "      <td>56.647656</td>\n",
       "      <td>3.439711</td>\n",
       "      <td>0.000000</td>\n",
       "    </tr>\n",
       "    <tr>\n",
       "      <th>50%</th>\n",
       "      <td>7.080795</td>\n",
       "      <td>196.967627</td>\n",
       "      <td>20927.833607</td>\n",
       "      <td>7.130299</td>\n",
       "      <td>333.775777</td>\n",
       "      <td>421.884968</td>\n",
       "      <td>14.218338</td>\n",
       "      <td>66.396293</td>\n",
       "      <td>3.955028</td>\n",
       "      <td>0.000000</td>\n",
       "    </tr>\n",
       "    <tr>\n",
       "      <th>75%</th>\n",
       "      <td>7.870050</td>\n",
       "      <td>216.667456</td>\n",
       "      <td>27332.762127</td>\n",
       "      <td>8.114887</td>\n",
       "      <td>350.385756</td>\n",
       "      <td>481.792304</td>\n",
       "      <td>16.557652</td>\n",
       "      <td>76.666609</td>\n",
       "      <td>4.500320</td>\n",
       "      <td>1.000000</td>\n",
       "    </tr>\n",
       "    <tr>\n",
       "      <th>max</th>\n",
       "      <td>14.000000</td>\n",
       "      <td>323.124000</td>\n",
       "      <td>61227.196008</td>\n",
       "      <td>13.127000</td>\n",
       "      <td>481.030642</td>\n",
       "      <td>753.342620</td>\n",
       "      <td>28.300000</td>\n",
       "      <td>124.000000</td>\n",
       "      <td>6.739000</td>\n",
       "      <td>1.000000</td>\n",
       "    </tr>\n",
       "  </tbody>\n",
       "</table>\n",
       "</div>"
      ],
      "text/plain": [
       "                ph     Hardness        Solids  Chloramines      Sulfate  \\\n",
       "count  3276.000000  3276.000000   3276.000000  3276.000000  3276.000000   \n",
       "mean      7.080795   196.369496  22014.092526     7.122277   333.775777   \n",
       "std       1.469956    32.879761   8768.570828     1.583085    36.142612   \n",
       "min       0.000000    47.432000    320.942611     0.352000   129.000000   \n",
       "25%       6.277673   176.850538  15666.690297     6.127421   317.094638   \n",
       "50%       7.080795   196.967627  20927.833607     7.130299   333.775777   \n",
       "75%       7.870050   216.667456  27332.762127     8.114887   350.385756   \n",
       "max      14.000000   323.124000  61227.196008    13.127000   481.030642   \n",
       "\n",
       "       Conductivity  Organic_carbon  Trihalomethanes    Turbidity   Potability  \n",
       "count   3276.000000     3276.000000      3276.000000  3276.000000  3276.000000  \n",
       "mean     426.205111       14.284970        66.396293     3.966786     0.390110  \n",
       "std       80.824064        3.308162        15.769881     0.780382     0.487849  \n",
       "min      181.483754        2.200000         0.738000     1.450000     0.000000  \n",
       "25%      365.734414       12.065801        56.647656     3.439711     0.000000  \n",
       "50%      421.884968       14.218338        66.396293     3.955028     0.000000  \n",
       "75%      481.792304       16.557652        76.666609     4.500320     1.000000  \n",
       "max      753.342620       28.300000       124.000000     6.739000     1.000000  "
      ]
     },
     "execution_count": 9,
     "metadata": {},
     "output_type": "execute_result"
    }
   ],
   "source": [
    "data.describe()"
   ]
  },
  {
   "cell_type": "code",
   "execution_count": 10,
   "id": "267681bc",
   "metadata": {
    "execution": {
     "iopub.execute_input": "2024-09-06T05:05:40.544900Z",
     "iopub.status.busy": "2024-09-06T05:05:40.544419Z",
     "iopub.status.idle": "2024-09-06T05:05:41.287582Z",
     "shell.execute_reply": "2024-09-06T05:05:41.285955Z"
    },
    "papermill": {
     "duration": 0.764112,
     "end_time": "2024-09-06T05:05:41.291116",
     "exception": false,
     "start_time": "2024-09-06T05:05:40.527004",
     "status": "completed"
    },
    "tags": []
   },
   "outputs": [
    {
     "data": {
      "image/png": "[encoded data removed]",
      "text/plain": [
       "<Figure size 1000x700 with 2 Axes>"
      ]
     },
     "metadata": {},
     "output_type": "display_data"
    }
   ],
   "source": [
    "# if reduce the dimensionality of a dataset is needed\n",
    "# exploring the data\n",
    "sns.heatmap(data.corr(),annot=True,cmap='gist_rainbow')\n",
    "fig=plt.gcf()\n",
    "fig.set_size_inches(10,7)\n",
    "plt.show()"
   ]
  },
  {
   "cell_type": "code",
   "execution_count": 11,
   "id": "920a5794",
   "metadata": {
    "execution": {
     "iopub.execute_input": "2024-09-06T05:05:41.327088Z",
     "iopub.status.busy": "2024-09-06T05:05:41.325590Z",
     "iopub.status.idle": "2024-09-06T05:05:41.779320Z",
     "shell.execute_reply": "2024-09-06T05:05:41.777477Z"
    },
    "papermill": {
     "duration": 0.475146,
     "end_time": "2024-09-06T05:05:41.782665",
     "exception": false,
     "start_time": "2024-09-06T05:05:41.307519",
     "status": "completed"
    },
    "tags": []
   },
   "outputs": [
    {
     "data": {
      "image/png": "[encoded data removed]",
      "text/plain": [
       "<Figure size 2000x700 with 1 Axes>"
      ]
     },
     "metadata": {},
     "output_type": "display_data"
    }
   ],
   "source": [
    "#Outlier using Box plot \n",
    "#outlier is an observation that lies abnormally far away from other values in a dataset\n",
    "data.boxplot(figsize=(20,7))\n",
    "plt.show()"
   ]
  },
  {
   "cell_type": "code",
   "execution_count": 12,
   "id": "3722e0ad",
   "metadata": {
    "execution": {
     "iopub.execute_input": "2024-09-06T05:05:41.820377Z",
     "iopub.status.busy": "2024-09-06T05:05:41.819407Z",
     "iopub.status.idle": "2024-09-06T05:05:41.835795Z",
     "shell.execute_reply": "2024-09-06T05:05:41.834221Z"
    },
    "papermill": {
     "duration": 0.038532,
     "end_time": "2024-09-06T05:05:41.838819",
     "exception": false,
     "start_time": "2024-09-06T05:05:41.800287",
     "status": "completed"
    },
    "tags": []
   },
   "outputs": [
    {
     "data": {
      "text/plain": [
       "count     3276.000000\n",
       "mean     22014.092526\n",
       "std       8768.570828\n",
       "min        320.942611\n",
       "25%      15666.690297\n",
       "50%      20927.833607\n",
       "75%      27332.762127\n",
       "max      61227.196008\n",
       "Name: Solids, dtype: float64"
      ]
     },
     "execution_count": 12,
     "metadata": {},
     "output_type": "execute_result"
    }
   ],
   "source": [
    "\n",
    "data['Solids'].describe()"
   ]
  },
  {
   "cell_type": "code",
   "execution_count": 13,
   "id": "ec9de354",
   "metadata": {
    "execution": {
     "iopub.execute_input": "2024-09-06T05:05:41.876163Z",
     "iopub.status.busy": "2024-09-06T05:05:41.875629Z",
     "iopub.status.idle": "2024-09-06T05:05:41.895675Z",
     "shell.execute_reply": "2024-09-06T05:05:41.894400Z"
    },
    "papermill": {
     "duration": 0.042842,
     "end_time": "2024-09-06T05:05:41.898601",
     "exception": false,
     "start_time": "2024-09-06T05:05:41.855759",
     "status": "completed"
    },
    "tags": []
   },
   "outputs": [
    {
     "data": {
      "text/html": [
       "<div>\n",
       "<style scoped>\n",
       "    .dataframe tbody tr th:only-of-type {\n",
       "        vertical-align: middle;\n",
       "    }\n",
       "\n",
       "    .dataframe tbody tr th {\n",
       "        vertical-align: top;\n",
       "    }\n",
       "\n",
       "    .dataframe thead th {\n",
       "        text-align: right;\n",
       "    }\n",
       "</style>\n",
       "<table border=\"1\" class=\"dataframe\">\n",
       "  <thead>\n",
       "    <tr style=\"text-align: right;\">\n",
       "      <th></th>\n",
       "      <th>ph</th>\n",
       "      <th>Hardness</th>\n",
       "      <th>Solids</th>\n",
       "      <th>Chloramines</th>\n",
       "      <th>Sulfate</th>\n",
       "      <th>Conductivity</th>\n",
       "      <th>Organic_carbon</th>\n",
       "      <th>Trihalomethanes</th>\n",
       "      <th>Turbidity</th>\n",
       "      <th>Potability</th>\n",
       "    </tr>\n",
       "  </thead>\n",
       "  <tbody>\n",
       "    <tr>\n",
       "      <th>0</th>\n",
       "      <td>7.080795</td>\n",
       "      <td>204.890455</td>\n",
       "      <td>20791.318981</td>\n",
       "      <td>7.300212</td>\n",
       "      <td>368.516441</td>\n",
       "      <td>564.308654</td>\n",
       "      <td>10.379783</td>\n",
       "      <td>86.990970</td>\n",
       "      <td>2.963135</td>\n",
       "      <td>0</td>\n",
       "    </tr>\n",
       "    <tr>\n",
       "      <th>1</th>\n",
       "      <td>3.716080</td>\n",
       "      <td>129.422921</td>\n",
       "      <td>18630.057858</td>\n",
       "      <td>6.635246</td>\n",
       "      <td>333.775777</td>\n",
       "      <td>592.885359</td>\n",
       "      <td>15.180013</td>\n",
       "      <td>56.329076</td>\n",
       "      <td>4.500656</td>\n",
       "      <td>0</td>\n",
       "    </tr>\n",
       "    <tr>\n",
       "      <th>2</th>\n",
       "      <td>8.099124</td>\n",
       "      <td>224.236259</td>\n",
       "      <td>19909.541732</td>\n",
       "      <td>9.275884</td>\n",
       "      <td>333.775777</td>\n",
       "      <td>418.606213</td>\n",
       "      <td>16.868637</td>\n",
       "      <td>66.420093</td>\n",
       "      <td>3.055934</td>\n",
       "      <td>0</td>\n",
       "    </tr>\n",
       "    <tr>\n",
       "      <th>3</th>\n",
       "      <td>8.316766</td>\n",
       "      <td>214.373394</td>\n",
       "      <td>22018.417441</td>\n",
       "      <td>8.059332</td>\n",
       "      <td>356.886136</td>\n",
       "      <td>363.266516</td>\n",
       "      <td>18.436524</td>\n",
       "      <td>100.341674</td>\n",
       "      <td>4.628771</td>\n",
       "      <td>0</td>\n",
       "    </tr>\n",
       "    <tr>\n",
       "      <th>4</th>\n",
       "      <td>9.092223</td>\n",
       "      <td>181.101509</td>\n",
       "      <td>17978.986339</td>\n",
       "      <td>6.546600</td>\n",
       "      <td>310.135738</td>\n",
       "      <td>398.410813</td>\n",
       "      <td>11.558279</td>\n",
       "      <td>31.997993</td>\n",
       "      <td>4.075075</td>\n",
       "      <td>0</td>\n",
       "    </tr>\n",
       "  </tbody>\n",
       "</table>\n",
       "</div>"
      ],
      "text/plain": [
       "         ph    Hardness        Solids  Chloramines     Sulfate  Conductivity  \\\n",
       "0  7.080795  204.890455  20791.318981     7.300212  368.516441    564.308654   \n",
       "1  3.716080  129.422921  18630.057858     6.635246  333.775777    592.885359   \n",
       "2  8.099124  224.236259  19909.541732     9.275884  333.775777    418.606213   \n",
       "3  8.316766  214.373394  22018.417441     8.059332  356.886136    363.266516   \n",
       "4  9.092223  181.101509  17978.986339     6.546600  310.135738    398.410813   \n",
       "\n",
       "   Organic_carbon  Trihalomethanes  Turbidity  Potability  \n",
       "0       10.379783        86.990970   2.963135           0  \n",
       "1       15.180013        56.329076   4.500656           0  \n",
       "2       16.868637        66.420093   3.055934           0  \n",
       "3       18.436524       100.341674   4.628771           0  \n",
       "4       11.558279        31.997993   4.075075           0  "
      ]
     },
     "execution_count": 13,
     "metadata": {},
     "output_type": "execute_result"
    }
   ],
   "source": [
    "data.head()"
   ]
  },
  {
   "cell_type": "code",
   "execution_count": 14,
   "id": "ce9e087d",
   "metadata": {
    "execution": {
     "iopub.execute_input": "2024-09-06T05:05:41.935344Z",
     "iopub.status.busy": "2024-09-06T05:05:41.934856Z",
     "iopub.status.idle": "2024-09-06T05:05:41.943803Z",
     "shell.execute_reply": "2024-09-06T05:05:41.942087Z"
    },
    "papermill": {
     "duration": 0.031757,
     "end_time": "2024-09-06T05:05:41.947499",
     "exception": false,
     "start_time": "2024-09-06T05:05:41.915742",
     "status": "completed"
    },
    "tags": []
   },
   "outputs": [
    {
     "data": {
      "text/plain": [
       "(3276, 10)"
      ]
     },
     "execution_count": 14,
     "metadata": {},
     "output_type": "execute_result"
    }
   ],
   "source": [
    "data.shape"
   ]
  },
  {
   "cell_type": "code",
   "execution_count": 15,
   "id": "4fd865c9",
   "metadata": {
    "execution": {
     "iopub.execute_input": "2024-09-06T05:05:41.984767Z",
     "iopub.status.busy": "2024-09-06T05:05:41.984286Z",
     "iopub.status.idle": "2024-09-06T05:05:42.001577Z",
     "shell.execute_reply": "2024-09-06T05:05:41.998721Z"
    },
    "papermill": {
     "duration": 0.044923,
     "end_time": "2024-09-06T05:05:42.010607",
     "exception": false,
     "start_time": "2024-09-06T05:05:41.965684",
     "status": "completed"
    },
    "tags": []
   },
   "outputs": [
    {
     "data": {
      "text/plain": [
       "<bound method DataFrame.info of             ph    Hardness        Solids  Chloramines     Sulfate  \\\n",
       "0     7.080795  204.890455  20791.318981     7.300212  368.516441   \n",
       "1     3.716080  129.422921  18630.057858     6.635246  333.775777   \n",
       "2     8.099124  224.236259  19909.541732     9.275884  333.775777   \n",
       "3     8.316766  214.373394  22018.417441     8.059332  356.886136   \n",
       "4     9.092223  181.101509  17978.986339     6.546600  310.135738   \n",
       "...        ...         ...           ...          ...         ...   \n",
       "3271  4.668102  193.681735  47580.991603     7.166639  359.948574   \n",
       "3272  7.808856  193.553212  17329.802160     8.061362  333.775777   \n",
       "3273  9.419510  175.762646  33155.578218     7.350233  333.775777   \n",
       "3274  5.126763  230.603758  11983.869376     6.303357  333.775777   \n",
       "3275  7.874671  195.102299  17404.177061     7.509306  333.775777   \n",
       "\n",
       "      Conductivity  Organic_carbon  Trihalomethanes  Turbidity  Potability  \n",
       "0       564.308654       10.379783        86.990970   2.963135           0  \n",
       "1       592.885359       15.180013        56.329076   4.500656           0  \n",
       "2       418.606213       16.868637        66.420093   3.055934           0  \n",
       "3       363.266516       18.436524       100.341674   4.628771           0  \n",
       "4       398.410813       11.558279        31.997993   4.075075           0  \n",
       "...            ...             ...              ...        ...         ...  \n",
       "3271    526.424171       13.894419        66.687695   4.435821           1  \n",
       "3272    392.449580       19.903225        66.396293   2.798243           1  \n",
       "3273    432.044783       11.039070        69.845400   3.298875           1  \n",
       "3274    402.883113       11.168946        77.488213   4.708658           1  \n",
       "3275    327.459760       16.140368        78.698446   2.309149           1  \n",
       "\n",
       "[3276 rows x 10 columns]>"
      ]
     },
     "execution_count": 15,
     "metadata": {},
     "output_type": "execute_result"
    }
   ],
   "source": [
    "data.info"
   ]
  },
  {
   "cell_type": "code",
   "execution_count": 16,
   "id": "9ac9f3d8",
   "metadata": {
    "execution": {
     "iopub.execute_input": "2024-09-06T05:05:42.048634Z",
     "iopub.status.busy": "2024-09-06T05:05:42.047826Z",
     "iopub.status.idle": "2024-09-06T05:05:42.059664Z",
     "shell.execute_reply": "2024-09-06T05:05:42.058277Z"
    },
    "papermill": {
     "duration": 0.03351,
     "end_time": "2024-09-06T05:05:42.062436",
     "exception": false,
     "start_time": "2024-09-06T05:05:42.028926",
     "status": "completed"
    },
    "tags": []
   },
   "outputs": [
    {
     "data": {
      "text/plain": [
       "Potability\n",
       "0    1998\n",
       "1    1278\n",
       "Name: count, dtype: int64"
      ]
     },
     "execution_count": 16,
     "metadata": {},
     "output_type": "execute_result"
    }
   ],
   "source": [
    "data['Potability'].value_counts()"
   ]
  },
  {
   "cell_type": "code",
   "execution_count": 17,
   "id": "a01bf644",
   "metadata": {
    "execution": {
     "iopub.execute_input": "2024-09-06T05:05:42.100431Z",
     "iopub.status.busy": "2024-09-06T05:05:42.098697Z",
     "iopub.status.idle": "2024-09-06T05:05:42.315451Z",
     "shell.execute_reply": "2024-09-06T05:05:42.313860Z"
    },
    "papermill": {
     "duration": 0.238487,
     "end_time": "2024-09-06T05:05:42.318338",
     "exception": false,
     "start_time": "2024-09-06T05:05:42.079851",
     "status": "completed"
    },
    "tags": []
   },
   "outputs": [
    {
     "data": {
      "image/png": "[encoded data removed]",
      "text/plain": [
       "<Figure size 640x480 with 1 Axes>"
      ]
     },
     "metadata": {},
     "output_type": "display_data"
    }
   ],
   "source": [
    "#Checking the balance of the data \n",
    "sns.countplot(data['Potability'])\n",
    "plt.show()"
   ]
  },
  {
   "cell_type": "code",
   "execution_count": 18,
   "id": "a53a8e74",
   "metadata": {
    "execution": {
     "iopub.execute_input": "2024-09-06T05:05:42.358528Z",
     "iopub.status.busy": "2024-09-06T05:05:42.357020Z",
     "iopub.status.idle": "2024-09-06T05:05:44.920327Z",
     "shell.execute_reply": "2024-09-06T05:05:44.918744Z"
    },
    "papermill": {
     "duration": 2.587822,
     "end_time": "2024-09-06T05:05:44.925042",
     "exception": false,
     "start_time": "2024-09-06T05:05:42.337220",
     "status": "completed"
    },
    "tags": []
   },
   "outputs": [
    {
     "data": {
      "image/png": "[encoded data removed]",
      "text/plain": [
       "<Figure size 2000x1500 with 12 Axes>"
      ]
     },
     "metadata": {},
     "output_type": "display_data"
    }
   ],
   "source": [
    "data.hist(figsize=(20,15))\n",
    "plt.show()"
   ]
  },
  {
   "cell_type": "code",
   "execution_count": 19,
   "id": "39f1fe30",
   "metadata": {
    "execution": {
     "iopub.execute_input": "2024-09-06T05:05:44.968864Z",
     "iopub.status.busy": "2024-09-06T05:05:44.967164Z",
     "iopub.status.idle": "2024-09-06T05:05:45.226056Z",
     "shell.execute_reply": "2024-09-06T05:05:45.224345Z"
    },
    "papermill": {
     "duration": 0.284146,
     "end_time": "2024-09-06T05:05:45.229507",
     "exception": false,
     "start_time": "2024-09-06T05:05:44.945361",
     "status": "completed"
    },
    "tags": []
   },
   "outputs": [
    {
     "data": {
      "image/png": "[encoded data removed]",
      "text/plain": [
       "<Figure size 640x480 with 1 Axes>"
      ]
     },
     "metadata": {},
     "output_type": "display_data"
    }
   ],
   "source": [
    "\n",
    "sns.scatterplot(x=data['ph'], y=data['Potability'])\n",
    "plt.show()"
   ]
  },
  {
   "cell_type": "code",
   "execution_count": 20,
   "id": "884da23f",
   "metadata": {
    "execution": {
     "iopub.execute_input": "2024-09-06T05:05:45.272464Z",
     "iopub.status.busy": "2024-09-06T05:05:45.271920Z",
     "iopub.status.idle": "2024-09-06T05:05:45.280553Z",
     "shell.execute_reply": "2024-09-06T05:05:45.278952Z"
    },
    "papermill": {
     "duration": 0.033191,
     "end_time": "2024-09-06T05:05:45.283682",
     "exception": false,
     "start_time": "2024-09-06T05:05:45.250491",
     "status": "completed"
    },
    "tags": []
   },
   "outputs": [],
   "source": [
    "x=data.drop('Potability',axis=1) #input data"
   ]
  },
  {
   "cell_type": "code",
   "execution_count": 21,
   "id": "d99b0c79",
   "metadata": {
    "execution": {
     "iopub.execute_input": "2024-09-06T05:05:45.325514Z",
     "iopub.status.busy": "2024-09-06T05:05:45.324157Z",
     "iopub.status.idle": "2024-09-06T05:05:45.331575Z",
     "shell.execute_reply": "2024-09-06T05:05:45.329951Z"
    },
    "papermill": {
     "duration": 0.031469,
     "end_time": "2024-09-06T05:05:45.334476",
     "exception": false,
     "start_time": "2024-09-06T05:05:45.303007",
     "status": "completed"
    },
    "tags": []
   },
   "outputs": [],
   "source": [
    "y=data['Potability'] #target variable"
   ]
  },
  {
   "cell_type": "code",
   "execution_count": 22,
   "id": "a1ec0615",
   "metadata": {
    "execution": {
     "iopub.execute_input": "2024-09-06T05:05:45.376062Z",
     "iopub.status.busy": "2024-09-06T05:05:45.375506Z",
     "iopub.status.idle": "2024-09-06T05:05:45.698788Z",
     "shell.execute_reply": "2024-09-06T05:05:45.696947Z"
    },
    "papermill": {
     "duration": 0.348198,
     "end_time": "2024-09-06T05:05:45.702178",
     "exception": false,
     "start_time": "2024-09-06T05:05:45.353980",
     "status": "completed"
    },
    "tags": []
   },
   "outputs": [],
   "source": [
    "from sklearn.model_selection import train_test_split"
   ]
  },
  {
   "cell_type": "code",
   "execution_count": 23,
   "id": "0d37ca65",
   "metadata": {
    "execution": {
     "iopub.execute_input": "2024-09-06T05:05:45.745626Z",
     "iopub.status.busy": "2024-09-06T05:05:45.745087Z",
     "iopub.status.idle": "2024-09-06T05:05:45.758458Z",
     "shell.execute_reply": "2024-09-06T05:05:45.756750Z"
    },
    "papermill": {
     "duration": 0.039463,
     "end_time": "2024-09-06T05:05:45.761494",
     "exception": false,
     "start_time": "2024-09-06T05:05:45.722031",
     "status": "completed"
    },
    "tags": []
   },
   "outputs": [],
   "source": [
    "x_train, x_test, y_train, y_test = train_test_split(x, y, test_size=0.2, shuffle=True, random_state=404)"
   ]
  },
  {
   "cell_type": "code",
   "execution_count": 24,
   "id": "cfc78c63",
   "metadata": {
    "execution": {
     "iopub.execute_input": "2024-09-06T05:05:45.803490Z",
     "iopub.status.busy": "2024-09-06T05:05:45.802945Z",
     "iopub.status.idle": "2024-09-06T05:05:45.814161Z",
     "shell.execute_reply": "2024-09-06T05:05:45.812634Z"
    },
    "papermill": {
     "duration": 0.035765,
     "end_time": "2024-09-06T05:05:45.817129",
     "exception": false,
     "start_time": "2024-09-06T05:05:45.781364",
     "status": "completed"
    },
    "tags": []
   },
   "outputs": [
    {
     "data": {
      "text/plain": [
       "536     0\n",
       "2709    1\n",
       "1367    0\n",
       "995     0\n",
       "3106    0\n",
       "       ..\n",
       "1935    1\n",
       "1012    0\n",
       "1206    1\n",
       "1898    1\n",
       "1788    0\n",
       "Name: Potability, Length: 2620, dtype: int64"
      ]
     },
     "execution_count": 24,
     "metadata": {},
     "output_type": "execute_result"
    }
   ],
   "source": [
    "y_train"
   ]
  },
  {
   "cell_type": "code",
   "execution_count": 25,
   "id": "a38d12f0",
   "metadata": {
    "execution": {
     "iopub.execute_input": "2024-09-06T05:05:45.859660Z",
     "iopub.status.busy": "2024-09-06T05:05:45.858475Z",
     "iopub.status.idle": "2024-09-06T05:05:45.882919Z",
     "shell.execute_reply": "2024-09-06T05:05:45.881491Z"
    },
    "papermill": {
     "duration": 0.049114,
     "end_time": "2024-09-06T05:05:45.886210",
     "exception": false,
     "start_time": "2024-09-06T05:05:45.837096",
     "status": "completed"
    },
    "tags": []
   },
   "outputs": [
    {
     "data": {
      "text/html": [
       "<div>\n",
       "<style scoped>\n",
       "    .dataframe tbody tr th:only-of-type {\n",
       "        vertical-align: middle;\n",
       "    }\n",
       "\n",
       "    .dataframe tbody tr th {\n",
       "        vertical-align: top;\n",
       "    }\n",
       "\n",
       "    .dataframe thead th {\n",
       "        text-align: right;\n",
       "    }\n",
       "</style>\n",
       "<table border=\"1\" class=\"dataframe\">\n",
       "  <thead>\n",
       "    <tr style=\"text-align: right;\">\n",
       "      <th></th>\n",
       "      <th>ph</th>\n",
       "      <th>Hardness</th>\n",
       "      <th>Solids</th>\n",
       "      <th>Chloramines</th>\n",
       "      <th>Sulfate</th>\n",
       "      <th>Conductivity</th>\n",
       "      <th>Organic_carbon</th>\n",
       "      <th>Trihalomethanes</th>\n",
       "      <th>Turbidity</th>\n",
       "    </tr>\n",
       "  </thead>\n",
       "  <tbody>\n",
       "    <tr>\n",
       "      <th>536</th>\n",
       "      <td>9.606859</td>\n",
       "      <td>200.842143</td>\n",
       "      <td>18907.642841</td>\n",
       "      <td>7.515087</td>\n",
       "      <td>333.775777</td>\n",
       "      <td>370.903807</td>\n",
       "      <td>11.358735</td>\n",
       "      <td>64.371183</td>\n",
       "      <td>4.405352</td>\n",
       "    </tr>\n",
       "    <tr>\n",
       "      <th>2709</th>\n",
       "      <td>7.080795</td>\n",
       "      <td>189.823418</td>\n",
       "      <td>20278.338272</td>\n",
       "      <td>6.799940</td>\n",
       "      <td>333.775777</td>\n",
       "      <td>314.834175</td>\n",
       "      <td>10.092087</td>\n",
       "      <td>46.629299</td>\n",
       "      <td>4.940015</td>\n",
       "    </tr>\n",
       "    <tr>\n",
       "      <th>1367</th>\n",
       "      <td>6.906575</td>\n",
       "      <td>199.638124</td>\n",
       "      <td>15201.339954</td>\n",
       "      <td>5.136599</td>\n",
       "      <td>333.775777</td>\n",
       "      <td>306.023975</td>\n",
       "      <td>15.212798</td>\n",
       "      <td>90.579020</td>\n",
       "      <td>3.282750</td>\n",
       "    </tr>\n",
       "    <tr>\n",
       "      <th>995</th>\n",
       "      <td>8.312380</td>\n",
       "      <td>203.744548</td>\n",
       "      <td>8727.247349</td>\n",
       "      <td>7.456302</td>\n",
       "      <td>333.775777</td>\n",
       "      <td>543.392988</td>\n",
       "      <td>15.470400</td>\n",
       "      <td>81.508682</td>\n",
       "      <td>2.988093</td>\n",
       "    </tr>\n",
       "    <tr>\n",
       "      <th>3106</th>\n",
       "      <td>7.080795</td>\n",
       "      <td>156.773181</td>\n",
       "      <td>23084.066585</td>\n",
       "      <td>7.269795</td>\n",
       "      <td>334.956100</td>\n",
       "      <td>378.253869</td>\n",
       "      <td>19.247141</td>\n",
       "      <td>81.571554</td>\n",
       "      <td>5.564902</td>\n",
       "    </tr>\n",
       "    <tr>\n",
       "      <th>...</th>\n",
       "      <td>...</td>\n",
       "      <td>...</td>\n",
       "      <td>...</td>\n",
       "      <td>...</td>\n",
       "      <td>...</td>\n",
       "      <td>...</td>\n",
       "      <td>...</td>\n",
       "      <td>...</td>\n",
       "      <td>...</td>\n",
       "    </tr>\n",
       "    <tr>\n",
       "      <th>1935</th>\n",
       "      <td>7.080795</td>\n",
       "      <td>169.775475</td>\n",
       "      <td>37273.429223</td>\n",
       "      <td>8.027830</td>\n",
       "      <td>240.897629</td>\n",
       "      <td>454.543765</td>\n",
       "      <td>18.621698</td>\n",
       "      <td>63.519516</td>\n",
       "      <td>3.573741</td>\n",
       "    </tr>\n",
       "    <tr>\n",
       "      <th>1012</th>\n",
       "      <td>7.581688</td>\n",
       "      <td>180.749140</td>\n",
       "      <td>11989.246243</td>\n",
       "      <td>4.977307</td>\n",
       "      <td>328.176978</td>\n",
       "      <td>617.883513</td>\n",
       "      <td>13.561253</td>\n",
       "      <td>39.215917</td>\n",
       "      <td>4.457282</td>\n",
       "    </tr>\n",
       "    <tr>\n",
       "      <th>1206</th>\n",
       "      <td>7.080795</td>\n",
       "      <td>134.679257</td>\n",
       "      <td>30211.832991</td>\n",
       "      <td>4.792361</td>\n",
       "      <td>234.285621</td>\n",
       "      <td>391.820964</td>\n",
       "      <td>18.999154</td>\n",
       "      <td>66.396293</td>\n",
       "      <td>3.840889</td>\n",
       "    </tr>\n",
       "    <tr>\n",
       "      <th>1898</th>\n",
       "      <td>6.203573</td>\n",
       "      <td>139.129083</td>\n",
       "      <td>6698.239095</td>\n",
       "      <td>3.876813</td>\n",
       "      <td>333.775777</td>\n",
       "      <td>601.526167</td>\n",
       "      <td>13.368165</td>\n",
       "      <td>68.298689</td>\n",
       "      <td>4.305549</td>\n",
       "    </tr>\n",
       "    <tr>\n",
       "      <th>1788</th>\n",
       "      <td>7.436537</td>\n",
       "      <td>167.328466</td>\n",
       "      <td>31935.690705</td>\n",
       "      <td>7.896365</td>\n",
       "      <td>333.775777</td>\n",
       "      <td>398.574215</td>\n",
       "      <td>14.824433</td>\n",
       "      <td>69.252783</td>\n",
       "      <td>4.497629</td>\n",
       "    </tr>\n",
       "  </tbody>\n",
       "</table>\n",
       "<p>2620 rows × 9 columns</p>\n",
       "</div>"
      ],
      "text/plain": [
       "            ph    Hardness        Solids  Chloramines     Sulfate  \\\n",
       "536   9.606859  200.842143  18907.642841     7.515087  333.775777   \n",
       "2709  7.080795  189.823418  20278.338272     6.799940  333.775777   \n",
       "1367  6.906575  199.638124  15201.339954     5.136599  333.775777   \n",
       "995   8.312380  203.744548   8727.247349     7.456302  333.775777   \n",
       "3106  7.080795  156.773181  23084.066585     7.269795  334.956100   \n",
       "...        ...         ...           ...          ...         ...   \n",
       "1935  7.080795  169.775475  37273.429223     8.027830  240.897629   \n",
       "1012  7.581688  180.749140  11989.246243     4.977307  328.176978   \n",
       "1206  7.080795  134.679257  30211.832991     4.792361  234.285621   \n",
       "1898  6.203573  139.129083   6698.239095     3.876813  333.775777   \n",
       "1788  7.436537  167.328466  31935.690705     7.896365  333.775777   \n",
       "\n",
       "      Conductivity  Organic_carbon  Trihalomethanes  Turbidity  \n",
       "536     370.903807       11.358735        64.371183   4.405352  \n",
       "2709    314.834175       10.092087        46.629299   4.940015  \n",
       "1367    306.023975       15.212798        90.579020   3.282750  \n",
       "995     543.392988       15.470400        81.508682   2.988093  \n",
       "3106    378.253869       19.247141        81.571554   5.564902  \n",
       "...            ...             ...              ...        ...  \n",
       "1935    454.543765       18.621698        63.519516   3.573741  \n",
       "1012    617.883513       13.561253        39.215917   4.457282  \n",
       "1206    391.820964       18.999154        66.396293   3.840889  \n",
       "1898    601.526167       13.368165        68.298689   4.305549  \n",
       "1788    398.574215       14.824433        69.252783   4.497629  \n",
       "\n",
       "[2620 rows x 9 columns]"
      ]
     },
     "execution_count": 25,
     "metadata": {},
     "output_type": "execute_result"
    }
   ],
   "source": [
    "x_train"
   ]
  },
  {
   "cell_type": "code",
   "execution_count": 26,
   "id": "250d077a",
   "metadata": {
    "execution": {
     "iopub.execute_input": "2024-09-06T05:05:45.932845Z",
     "iopub.status.busy": "2024-09-06T05:05:45.932286Z",
     "iopub.status.idle": "2024-09-06T05:05:45.944831Z",
     "shell.execute_reply": "2024-09-06T05:05:45.943149Z"
    },
    "papermill": {
     "duration": 0.039527,
     "end_time": "2024-09-06T05:05:45.948015",
     "exception": false,
     "start_time": "2024-09-06T05:05:45.908488",
     "status": "completed"
    },
    "tags": []
   },
   "outputs": [
    {
     "data": {
      "text/plain": [
       "536     0\n",
       "2709    1\n",
       "1367    0\n",
       "995     0\n",
       "3106    0\n",
       "       ..\n",
       "1935    1\n",
       "1012    0\n",
       "1206    1\n",
       "1898    1\n",
       "1788    0\n",
       "Name: Potability, Length: 2620, dtype: int64"
      ]
     },
     "execution_count": 26,
     "metadata": {},
     "output_type": "execute_result"
    }
   ],
   "source": [
    "y_train"
   ]
  },
  {
   "cell_type": "code",
   "execution_count": 27,
   "id": "a9f769cc",
   "metadata": {
    "execution": {
     "iopub.execute_input": "2024-09-06T05:05:45.995152Z",
     "iopub.status.busy": "2024-09-06T05:05:45.993612Z",
     "iopub.status.idle": "2024-09-06T05:05:46.229024Z",
     "shell.execute_reply": "2024-09-06T05:05:46.227694Z"
    },
    "papermill": {
     "duration": 0.26221,
     "end_time": "2024-09-06T05:05:46.232408",
     "exception": false,
     "start_time": "2024-09-06T05:05:45.970198",
     "status": "completed"
    },
    "tags": []
   },
   "outputs": [],
   "source": [
    "from sklearn.tree import DecisionTreeClassifier\n",
    "from sklearn.metrics import accuracy_score, confusion_matrix\n",
    "\n",
    "AB = DecisionTreeClassifier(criterion = 'entropy',min_samples_split = 9, splitter='best')"
   ]
  },
  {
   "cell_type": "code",
   "execution_count": 28,
   "id": "9160bdb9",
   "metadata": {
    "execution": {
     "iopub.execute_input": "2024-09-06T05:05:46.276087Z",
     "iopub.status.busy": "2024-09-06T05:05:46.275607Z",
     "iopub.status.idle": "2024-09-06T05:05:46.364463Z",
     "shell.execute_reply": "2024-09-06T05:05:46.362906Z"
    },
    "papermill": {
     "duration": 0.114208,
     "end_time": "2024-09-06T05:05:46.367661",
     "exception": false,
     "start_time": "2024-09-06T05:05:46.253453",
     "status": "completed"
    },
    "tags": []
   },
   "outputs": [
    {
     "data": {
      "text/html": [
       "<style>#sk-container-id-1 {color: black;background-color: white;}#sk-container-id-1 pre{padding: 0;}#sk-container-id-1 div.sk-toggleable {background-color: white;}#sk-container-id-1 label.sk-toggleable__label {cursor: pointer;display: block;width: 100%;margin-bottom: 0;padding: 0.3em;box-sizing: border-box;text-align: center;}#sk-container-id-1 label.sk-toggleable__label-arrow:before {content: \"▸\";float: left;margin-right: 0.25em;color: #696969;}#sk-container-id-1 label.sk-toggleable__label-arrow:hover:before {color: black;}#sk-container-id-1 div.sk-estimator:hover label.sk-toggleable__label-arrow:before {color: black;}#sk-container-id-1 div.sk-toggleable__content {max-height: 0;max-width: 0;overflow: hidden;text-align: left;background-color: #f0f8ff;}#sk-container-id-1 div.sk-toggleable__content pre {margin: 0.2em;color: black;border-radius: 0.25em;background-color: #f0f8ff;}#sk-container-id-1 input.sk-toggleable__control:checked~div.sk-toggleable__content {max-height: 200px;max-width: 100%;overflow: auto;}#sk-container-id-1 input.sk-toggleable__control:checked~label.sk-toggleable__label-arrow:before {content: \"▾\";}#sk-container-id-1 div.sk-estimator input.sk-toggleable__control:checked~label.sk-toggleable__label {background-color: #d4ebff;}#sk-container-id-1 div.sk-label input.sk-toggleable__control:checked~label.sk-toggleable__label {background-color: #d4ebff;}#sk-container-id-1 input.sk-hidden--visually {border: 0;clip: rect(1px 1px 1px 1px);clip: rect(1px, 1px, 1px, 1px);height: 1px;margin: -1px;overflow: hidden;padding: 0;position: absolute;width: 1px;}#sk-container-id-1 div.sk-estimator {font-family: monospace;background-color: #f0f8ff;border: 1px dotted black;border-radius: 0.25em;box-sizing: border-box;margin-bottom: 0.5em;}#sk-container-id-1 div.sk-estimator:hover {background-color: #d4ebff;}#sk-container-id-1 div.sk-parallel-item::after {content: \"\";width: 100%;border-bottom: 1px solid gray;flex-grow: 1;}#sk-container-id-1 div.sk-label:hover label.sk-toggleable__label {background-color: #d4ebff;}#sk-container-id-1 div.sk-serial::before {content: \"\";position: absolute;border-left: 1px solid gray;box-sizing: border-box;top: 0;bottom: 0;left: 50%;z-index: 0;}#sk-container-id-1 div.sk-serial {display: flex;flex-direction: column;align-items: center;background-color: white;padding-right: 0.2em;padding-left: 0.2em;position: relative;}#sk-container-id-1 div.sk-item {position: relative;z-index: 1;}#sk-container-id-1 div.sk-parallel {display: flex;align-items: stretch;justify-content: center;background-color: white;position: relative;}#sk-container-id-1 div.sk-item::before, #sk-container-id-1 div.sk-parallel-item::before {content: \"\";position: absolute;border-left: 1px solid gray;box-sizing: border-box;top: 0;bottom: 0;left: 50%;z-index: -1;}#sk-container-id-1 div.sk-parallel-item {display: flex;flex-direction: column;z-index: 1;position: relative;background-color: white;}#sk-container-id-1 div.sk-parallel-item:first-child::after {align-self: flex-end;width: 50%;}#sk-container-id-1 div.sk-parallel-item:last-child::after {align-self: flex-start;width: 50%;}#sk-container-id-1 div.sk-parallel-item:only-child::after {width: 0;}#sk-container-id-1 div.sk-dashed-wrapped {border: 1px dashed gray;margin: 0 0.4em 0.5em 0.4em;box-sizing: border-box;padding-bottom: 0.4em;background-color: white;}#sk-container-id-1 div.sk-label label {font-family: monospace;font-weight: bold;display: inline-block;line-height: 1.2em;}#sk-container-id-1 div.sk-label-container {text-align: center;}#sk-container-id-1 div.sk-container {/* jupyter's `normalize.less` sets `[hidden] { display: none; }` but bootstrap.min.css set `[hidden] { display: none !important; }` so we also need the `!important` here to be able to override the default hidden behavior on the sphinx rendered scikit-learn.org. See: https://github.com/scikit-learn/scikit-learn/issues/21755 */display: inline-block !important;position: relative;}#sk-container-id-1 div.sk-text-repr-fallback {display: none;}</style><div id=\"sk-container-id-1\" class=\"sk-top-container\"><div class=\"sk-text-repr-fallback\"><pre>DecisionTreeClassifier(criterion=&#x27;entropy&#x27;, min_samples_split=9)</pre><b>In a Jupyter environment, please rerun this cell to show the HTML representation or trust the notebook. <br />On GitHub, the HTML representation is unable to render, please try loading this page with nbviewer.org.</b></div><div class=\"sk-container\" hidden><div class=\"sk-item\"><div class=\"sk-estimator sk-toggleable\"><input class=\"sk-toggleable__control sk-hidden--visually\" id=\"sk-estimator-id-1\" type=\"checkbox\" checked><label for=\"sk-estimator-id-1\" class=\"sk-toggleable__label sk-toggleable__label-arrow\">DecisionTreeClassifier</label><div class=\"sk-toggleable__content\"><pre>DecisionTreeClassifier(criterion=&#x27;entropy&#x27;, min_samples_split=9)</pre></div></div></div></div></div>"
      ],
      "text/plain": [
       "DecisionTreeClassifier(criterion='entropy', min_samples_split=9)"
      ]
     },
     "execution_count": 28,
     "metadata": {},
     "output_type": "execute_result"
    }
   ],
   "source": [
    "AB.fit(x_train,y_train)"
   ]
  },
  {
   "cell_type": "code",
   "execution_count": 29,
   "id": "38dc5f37",
   "metadata": {
    "execution": {
     "iopub.execute_input": "2024-09-06T05:05:46.414134Z",
     "iopub.status.busy": "2024-09-06T05:05:46.413601Z",
     "iopub.status.idle": "2024-09-06T05:05:46.424862Z",
     "shell.execute_reply": "2024-09-06T05:05:46.423215Z"
    },
    "papermill": {
     "duration": 0.038237,
     "end_time": "2024-09-06T05:05:46.427948",
     "exception": false,
     "start_time": "2024-09-06T05:05:46.389711",
     "status": "completed"
    },
    "tags": []
   },
   "outputs": [
    {
     "data": {
      "text/plain": [
       "65      0\n",
       "190     0\n",
       "841     0\n",
       "1066    0\n",
       "2831    1\n",
       "       ..\n",
       "1644    0\n",
       "805     1\n",
       "2848    1\n",
       "875     0\n",
       "2834    1\n",
       "Name: Potability, Length: 656, dtype: int64"
      ]
     },
     "execution_count": 29,
     "metadata": {},
     "output_type": "execute_result"
    }
   ],
   "source": [
    "y_test"
   ]
  },
  {
   "cell_type": "code",
   "execution_count": 30,
   "id": "7ae23e16",
   "metadata": {
    "execution": {
     "iopub.execute_input": "2024-09-06T05:05:46.474892Z",
     "iopub.status.busy": "2024-09-06T05:05:46.474121Z",
     "iopub.status.idle": "2024-09-06T05:05:46.484489Z",
     "shell.execute_reply": "2024-09-06T05:05:46.483138Z"
    },
    "papermill": {
     "duration": 0.037821,
     "end_time": "2024-09-06T05:05:46.487490",
     "exception": false,
     "start_time": "2024-09-06T05:05:46.449669",
     "status": "completed"
    },
    "tags": []
   },
   "outputs": [],
   "source": [
    "y_prediction=AB.predict(x_test)"
   ]
  },
  {
   "cell_type": "code",
   "execution_count": 31,
   "id": "c7ff952c",
   "metadata": {
    "execution": {
     "iopub.execute_input": "2024-09-06T05:05:46.535848Z",
     "iopub.status.busy": "2024-09-06T05:05:46.535355Z",
     "iopub.status.idle": "2024-09-06T05:05:46.547002Z",
     "shell.execute_reply": "2024-09-06T05:05:46.545595Z"
    },
    "papermill": {
     "duration": 0.039875,
     "end_time": "2024-09-06T05:05:46.549752",
     "exception": false,
     "start_time": "2024-09-06T05:05:46.509877",
     "status": "completed"
    },
    "tags": []
   },
   "outputs": [
    {
     "data": {
      "text/plain": [
       "62.65243902439024"
      ]
     },
     "execution_count": 31,
     "metadata": {},
     "output_type": "execute_result"
    }
   ],
   "source": [
    "accuracy_score(y_prediction,y_test) *100"
   ]
  },
  {
   "cell_type": "code",
   "execution_count": 32,
   "id": "8e03823d",
   "metadata": {
    "execution": {
     "iopub.execute_input": "2024-09-06T05:05:46.596683Z",
     "iopub.status.busy": "2024-09-06T05:05:46.594965Z",
     "iopub.status.idle": "2024-09-06T05:05:46.609000Z",
     "shell.execute_reply": "2024-09-06T05:05:46.607568Z"
    },
    "papermill": {
     "duration": 0.040813,
     "end_time": "2024-09-06T05:05:46.612099",
     "exception": false,
     "start_time": "2024-09-06T05:05:46.571286",
     "status": "completed"
    },
    "tags": []
   },
   "outputs": [
    {
     "data": {
      "text/plain": [
       "array([[267, 130],\n",
       "       [115, 144]])"
      ]
     },
     "execution_count": 32,
     "metadata": {},
     "output_type": "execute_result"
    }
   ],
   "source": [
    "confusion_matrix(y_prediction,y_test)"
   ]
  },
  {
   "cell_type": "code",
   "execution_count": 33,
   "id": "1e742e1d",
   "metadata": {
    "execution": {
     "iopub.execute_input": "2024-09-06T05:05:46.658498Z",
     "iopub.status.busy": "2024-09-06T05:05:46.657721Z",
     "iopub.status.idle": "2024-09-06T05:05:46.667068Z",
     "shell.execute_reply": "2024-09-06T05:05:46.665406Z"
    },
    "papermill": {
     "duration": 0.036296,
     "end_time": "2024-09-06T05:05:46.670326",
     "exception": false,
     "start_time": "2024-09-06T05:05:46.634030",
     "status": "completed"
    },
    "tags": []
   },
   "outputs": [
    {
     "data": {
      "text/plain": [
       "(656,)"
      ]
     },
     "execution_count": 33,
     "metadata": {},
     "output_type": "execute_result"
    }
   ],
   "source": [
    "#The lenght \n",
    "y_test.shape"
   ]
  },
  {
   "cell_type": "code",
   "execution_count": 34,
   "id": "c7d2c134",
   "metadata": {
    "execution": {
     "iopub.execute_input": "2024-09-06T05:05:46.718570Z",
     "iopub.status.busy": "2024-09-06T05:05:46.716988Z",
     "iopub.status.idle": "2024-09-06T05:05:46.726997Z",
     "shell.execute_reply": "2024-09-06T05:05:46.725496Z"
    },
    "papermill": {
     "duration": 0.037959,
     "end_time": "2024-09-06T05:05:46.730156",
     "exception": false,
     "start_time": "2024-09-06T05:05:46.692197",
     "status": "completed"
    },
    "tags": []
   },
   "outputs": [],
   "source": [
    "from sklearn.model_selection import GridSearchCV\n",
    "from sklearn.model_selection import RepeatedStratifiedKFold\n",
    "\n",
    "AB = DecisionTreeClassifier()\n",
    "\n",
    "\n",
    "criterion = [\"gini\", \"entropy\"]\n",
    "splitter = [\"best\", \"random\"]\n",
    "min_samples_split=range(1,10)\n",
    "\n",
    "\n",
    "parameters = dict(criterion = criterion, splitter = splitter,min_samples_split = min_samples_split)\n",
    "cv = RepeatedStratifiedKFold(n_splits = 5, random_state = 250)\n",
    "\n",
    "\n",
    "grid_search_cv_AB = GridSearchCV(estimator=AB, param_grid=parameters, scoring='accuracy',  cv=cv)"
   ]
  },
  {
   "cell_type": "code",
   "execution_count": 35,
   "id": "c77e3efd",
   "metadata": {
    "execution": {
     "iopub.execute_input": "2024-09-06T05:05:46.778828Z",
     "iopub.status.busy": "2024-09-06T05:05:46.777343Z",
     "iopub.status.idle": "2024-09-06T05:06:37.470260Z",
     "shell.execute_reply": "2024-09-06T05:06:37.468699Z"
    },
    "papermill": {
     "duration": 50.745288,
     "end_time": "2024-09-06T05:06:37.497875",
     "exception": false,
     "start_time": "2024-09-06T05:05:46.752587",
     "status": "completed"
    },
    "tags": []
   },
   "outputs": [
    {
     "name": "stderr",
     "output_type": "stream",
     "text": [
      "/opt/conda/lib/python3.10/site-packages/sklearn/model_selection/_validation.py:378: FitFailedWarning: \n",
      "200 fits failed out of a total of 1800.\n",
      "The score on these train-test partitions for these parameters will be set to nan.\n",
      "If these failures are not expected, you can try to debug them by setting error_score='raise'.\n",
      "\n",
      "Below are more details about the failures:\n",
      "--------------------------------------------------------------------------------\n",
      "200 fits failed with the following error:\n",
      "Traceback (most recent call last):\n",
      "  File \"/opt/conda/lib/python3.10/site-packages/sklearn/model_selection/_validation.py\", line 686, in _fit_and_score\n",
      "    estimator.fit(X_train, y_train, **fit_params)\n",
      "  File \"/opt/conda/lib/python3.10/site-packages/sklearn/tree/_classes.py\", line 889, in fit\n",
      "    super().fit(\n",
      "  File \"/opt/conda/lib/python3.10/site-packages/sklearn/tree/_classes.py\", line 177, in fit\n",
      "    self._validate_params()\n",
      "  File \"/opt/conda/lib/python3.10/site-packages/sklearn/base.py\", line 600, in _validate_params\n",
      "    validate_parameter_constraints(\n",
      "  File \"/opt/conda/lib/python3.10/site-packages/sklearn/utils/_param_validation.py\", line 97, in validate_parameter_constraints\n",
      "    raise InvalidParameterError(\n",
      "sklearn.utils._param_validation.InvalidParameterError: The 'min_samples_split' parameter of DecisionTreeClassifier must be an int in the range [2, inf) or a float in the range (0.0, 1.0]. Got 1 instead.\n",
      "\n",
      "  warnings.warn(some_fits_failed_message, FitFailedWarning)\n",
      "/opt/conda/lib/python3.10/site-packages/sklearn/model_selection/_search.py:952: UserWarning: One or more of the test scores are non-finite: [       nan        nan 0.57980916 0.57648855 0.58339695 0.58026718\n",
      " 0.58080153 0.57877863 0.58099237 0.58698473 0.58236641 0.5820229\n",
      " 0.58480916 0.58790076 0.58599237 0.59118321 0.58293893 0.58187023\n",
      "        nan        nan 0.58370229 0.57648855 0.58671756 0.57492366\n",
      " 0.5840458  0.58267176 0.58793893 0.58057252 0.58717557 0.58232824\n",
      " 0.5879771  0.58667939 0.58629771 0.58851145 0.58885496 0.58206107]\n",
      "  warnings.warn(\n"
     ]
    },
    {
     "data": {
      "text/html": [
       "<style>#sk-container-id-2 {color: black;background-color: white;}#sk-container-id-2 pre{padding: 0;}#sk-container-id-2 div.sk-toggleable {background-color: white;}#sk-container-id-2 label.sk-toggleable__label {cursor: pointer;display: block;width: 100%;margin-bottom: 0;padding: 0.3em;box-sizing: border-box;text-align: center;}#sk-container-id-2 label.sk-toggleable__label-arrow:before {content: \"▸\";float: left;margin-right: 0.25em;color: #696969;}#sk-container-id-2 label.sk-toggleable__label-arrow:hover:before {color: black;}#sk-container-id-2 div.sk-estimator:hover label.sk-toggleable__label-arrow:before {color: black;}#sk-container-id-2 div.sk-toggleable__content {max-height: 0;max-width: 0;overflow: hidden;text-align: left;background-color: #f0f8ff;}#sk-container-id-2 div.sk-toggleable__content pre {margin: 0.2em;color: black;border-radius: 0.25em;background-color: #f0f8ff;}#sk-container-id-2 input.sk-toggleable__control:checked~div.sk-toggleable__content {max-height: 200px;max-width: 100%;overflow: auto;}#sk-container-id-2 input.sk-toggleable__control:checked~label.sk-toggleable__label-arrow:before {content: \"▾\";}#sk-container-id-2 div.sk-estimator input.sk-toggleable__control:checked~label.sk-toggleable__label {background-color: #d4ebff;}#sk-container-id-2 div.sk-label input.sk-toggleable__control:checked~label.sk-toggleable__label {background-color: #d4ebff;}#sk-container-id-2 input.sk-hidden--visually {border: 0;clip: rect(1px 1px 1px 1px);clip: rect(1px, 1px, 1px, 1px);height: 1px;margin: -1px;overflow: hidden;padding: 0;position: absolute;width: 1px;}#sk-container-id-2 div.sk-estimator {font-family: monospace;background-color: #f0f8ff;border: 1px dotted black;border-radius: 0.25em;box-sizing: border-box;margin-bottom: 0.5em;}#sk-container-id-2 div.sk-estimator:hover {background-color: #d4ebff;}#sk-container-id-2 div.sk-parallel-item::after {content: \"\";width: 100%;border-bottom: 1px solid gray;flex-grow: 1;}#sk-container-id-2 div.sk-label:hover label.sk-toggleable__label {background-color: #d4ebff;}#sk-container-id-2 div.sk-serial::before {content: \"\";position: absolute;border-left: 1px solid gray;box-sizing: border-box;top: 0;bottom: 0;left: 50%;z-index: 0;}#sk-container-id-2 div.sk-serial {display: flex;flex-direction: column;align-items: center;background-color: white;padding-right: 0.2em;padding-left: 0.2em;position: relative;}#sk-container-id-2 div.sk-item {position: relative;z-index: 1;}#sk-container-id-2 div.sk-parallel {display: flex;align-items: stretch;justify-content: center;background-color: white;position: relative;}#sk-container-id-2 div.sk-item::before, #sk-container-id-2 div.sk-parallel-item::before {content: \"\";position: absolute;border-left: 1px solid gray;box-sizing: border-box;top: 0;bottom: 0;left: 50%;z-index: -1;}#sk-container-id-2 div.sk-parallel-item {display: flex;flex-direction: column;z-index: 1;position: relative;background-color: white;}#sk-container-id-2 div.sk-parallel-item:first-child::after {align-self: flex-end;width: 50%;}#sk-container-id-2 div.sk-parallel-item:last-child::after {align-self: flex-start;width: 50%;}#sk-container-id-2 div.sk-parallel-item:only-child::after {width: 0;}#sk-container-id-2 div.sk-dashed-wrapped {border: 1px dashed gray;margin: 0 0.4em 0.5em 0.4em;box-sizing: border-box;padding-bottom: 0.4em;background-color: white;}#sk-container-id-2 div.sk-label label {font-family: monospace;font-weight: bold;display: inline-block;line-height: 1.2em;}#sk-container-id-2 div.sk-label-container {text-align: center;}#sk-container-id-2 div.sk-container {/* jupyter's `normalize.less` sets `[hidden] { display: none; }` but bootstrap.min.css set `[hidden] { display: none !important; }` so we also need the `!important` here to be able to override the default hidden behavior on the sphinx rendered scikit-learn.org. See: https://github.com/scikit-learn/scikit-learn/issues/21755 */display: inline-block !important;position: relative;}#sk-container-id-2 div.sk-text-repr-fallback {display: none;}</style><div id=\"sk-container-id-2\" class=\"sk-top-container\"><div class=\"sk-text-repr-fallback\"><pre>GridSearchCV(cv=RepeatedStratifiedKFold(n_repeats=10, n_splits=5, random_state=250),\n",
       "             estimator=DecisionTreeClassifier(),\n",
       "             param_grid={&#x27;criterion&#x27;: [&#x27;gini&#x27;, &#x27;entropy&#x27;],\n",
       "                         &#x27;min_samples_split&#x27;: range(1, 10),\n",
       "                         &#x27;splitter&#x27;: [&#x27;best&#x27;, &#x27;random&#x27;]},\n",
       "             scoring=&#x27;accuracy&#x27;)</pre><b>In a Jupyter environment, please rerun this cell to show the HTML representation or trust the notebook. <br />On GitHub, the HTML representation is unable to render, please try loading this page with nbviewer.org.</b></div><div class=\"sk-container\" hidden><div class=\"sk-item sk-dashed-wrapped\"><div class=\"sk-label-container\"><div class=\"sk-label sk-toggleable\"><input class=\"sk-toggleable__control sk-hidden--visually\" id=\"sk-estimator-id-2\" type=\"checkbox\" ><label for=\"sk-estimator-id-2\" class=\"sk-toggleable__label sk-toggleable__label-arrow\">GridSearchCV</label><div class=\"sk-toggleable__content\"><pre>GridSearchCV(cv=RepeatedStratifiedKFold(n_repeats=10, n_splits=5, random_state=250),\n",
       "             estimator=DecisionTreeClassifier(),\n",
       "             param_grid={&#x27;criterion&#x27;: [&#x27;gini&#x27;, &#x27;entropy&#x27;],\n",
       "                         &#x27;min_samples_split&#x27;: range(1, 10),\n",
       "                         &#x27;splitter&#x27;: [&#x27;best&#x27;, &#x27;random&#x27;]},\n",
       "             scoring=&#x27;accuracy&#x27;)</pre></div></div></div><div class=\"sk-parallel\"><div class=\"sk-parallel-item\"><div class=\"sk-item\"><div class=\"sk-label-container\"><div class=\"sk-label sk-toggleable\"><input class=\"sk-toggleable__control sk-hidden--visually\" id=\"sk-estimator-id-3\" type=\"checkbox\" ><label for=\"sk-estimator-id-3\" class=\"sk-toggleable__label sk-toggleable__label-arrow\">estimator: DecisionTreeClassifier</label><div class=\"sk-toggleable__content\"><pre>DecisionTreeClassifier()</pre></div></div></div><div class=\"sk-serial\"><div class=\"sk-item\"><div class=\"sk-estimator sk-toggleable\"><input class=\"sk-toggleable__control sk-hidden--visually\" id=\"sk-estimator-id-4\" type=\"checkbox\" ><label for=\"sk-estimator-id-4\" class=\"sk-toggleable__label sk-toggleable__label-arrow\">DecisionTreeClassifier</label><div class=\"sk-toggleable__content\"><pre>DecisionTreeClassifier()</pre></div></div></div></div></div></div></div></div></div></div>"
      ],
      "text/plain": [
       "GridSearchCV(cv=RepeatedStratifiedKFold(n_repeats=10, n_splits=5, random_state=250),\n",
       "             estimator=DecisionTreeClassifier(),\n",
       "             param_grid={'criterion': ['gini', 'entropy'],\n",
       "                         'min_samples_split': range(1, 10),\n",
       "                         'splitter': ['best', 'random']},\n",
       "             scoring='accuracy')"
      ]
     },
     "execution_count": 35,
     "metadata": {},
     "output_type": "execute_result"
    }
   ],
   "source": [
    "grid_search_cv_AB.fit(x_train, y_train)"
   ]
  },
  {
   "cell_type": "code",
   "execution_count": 36,
   "id": "58423dd1",
   "metadata": {
    "execution": {
     "iopub.execute_input": "2024-09-06T05:06:37.546022Z",
     "iopub.status.busy": "2024-09-06T05:06:37.544497Z",
     "iopub.status.idle": "2024-09-06T05:06:37.552385Z",
     "shell.execute_reply": "2024-09-06T05:06:37.550767Z"
    },
    "papermill": {
     "duration": 0.035015,
     "end_time": "2024-09-06T05:06:37.555567",
     "exception": false,
     "start_time": "2024-09-06T05:06:37.520552",
     "status": "completed"
    },
    "tags": []
   },
   "outputs": [
    {
     "name": "stdout",
     "output_type": "stream",
     "text": [
      "{'criterion': 'gini', 'min_samples_split': 8, 'splitter': 'random'}\n"
     ]
    }
   ],
   "source": [
    "print(grid_search_cv_AB.best_params_)"
   ]
  },
  {
   "cell_type": "code",
   "execution_count": 37,
   "id": "eda93625",
   "metadata": {
    "execution": {
     "iopub.execute_input": "2024-09-06T05:06:37.604693Z",
     "iopub.status.busy": "2024-09-06T05:06:37.604076Z",
     "iopub.status.idle": "2024-09-06T05:06:37.619154Z",
     "shell.execute_reply": "2024-09-06T05:06:37.617849Z"
    },
    "papermill": {
     "duration": 0.043462,
     "end_time": "2024-09-06T05:06:37.621820",
     "exception": false,
     "start_time": "2024-09-06T05:06:37.578358",
     "status": "completed"
    },
    "tags": []
   },
   "outputs": [],
   "source": [
    "prediction_grid=grid_search_cv_AB.predict(x_test)"
   ]
  },
  {
   "cell_type": "code",
   "execution_count": 38,
   "id": "dab66d78",
   "metadata": {
    "execution": {
     "iopub.execute_input": "2024-09-06T05:06:37.668819Z",
     "iopub.status.busy": "2024-09-06T05:06:37.668225Z",
     "iopub.status.idle": "2024-09-06T05:06:37.680235Z",
     "shell.execute_reply": "2024-09-06T05:06:37.678898Z"
    },
    "papermill": {
     "duration": 0.038918,
     "end_time": "2024-09-06T05:06:37.683091",
     "exception": false,
     "start_time": "2024-09-06T05:06:37.644173",
     "status": "completed"
    },
    "tags": []
   },
   "outputs": [
    {
     "data": {
      "text/plain": [
       "58.993902439024396"
      ]
     },
     "execution_count": 38,
     "metadata": {},
     "output_type": "execute_result"
    }
   ],
   "source": [
    "accuracy_score(prediction_grid,y_test) *100 "
   ]
  },
  {
   "cell_type": "code",
   "execution_count": 39,
   "id": "86d09073",
   "metadata": {
    "execution": {
     "iopub.execute_input": "2024-09-06T05:06:37.732971Z",
     "iopub.status.busy": "2024-09-06T05:06:37.731618Z",
     "iopub.status.idle": "2024-09-06T05:06:37.744086Z",
     "shell.execute_reply": "2024-09-06T05:06:37.742829Z"
    },
    "papermill": {
     "duration": 0.040379,
     "end_time": "2024-09-06T05:06:37.746883",
     "exception": false,
     "start_time": "2024-09-06T05:06:37.706504",
     "status": "completed"
    },
    "tags": []
   },
   "outputs": [
    {
     "data": {
      "text/plain": [
       "array([[251, 131],\n",
       "       [138, 136]])"
      ]
     },
     "execution_count": 39,
     "metadata": {},
     "output_type": "execute_result"
    }
   ],
   "source": [
    "confusion_matrix(y_test,prediction_grid)"
   ]
  },
  {
   "cell_type": "code",
   "execution_count": null,
   "id": "f500942b",
   "metadata": {
    "papermill": {
     "duration": 0.022544,
     "end_time": "2024-09-06T05:06:37.794570",
     "exception": false,
     "start_time": "2024-09-06T05:06:37.772026",
     "status": "completed"
    },
    "tags": []
   },
   "outputs": [],
   "source": []
  }
 ],
 "metadata": {
  "kaggle": {
   "accelerator": "none",
   "dataSources": [
    {
     "datasetId": 5652998,
     "sourceId": 9330174,
     "sourceType": "datasetVersion"
    }
   ],
   "dockerImageVersionId": 30761,
   "isGpuEnabled": false,
   "isInternetEnabled": false,
   "language": "python",
   "sourceType": "notebook"
  },
  "kernelspec": {
   "display_name": "Python 3",
   "language": "python",
   "name": "python3"
  },
  "language_info": {
   "codemirror_mode": {
    "name": "ipython",
    "version": 3
   },
   "file_extension": ".py",
   "mimetype": "text/x-python",
   "name": "python",
   "nbconvert_exporter": "python",
   "pygments_lexer": "ipython3",
   "version": "3.10.14"
  },
  "papermill": {
   "default_parameters": {},
   "duration": 64.694248,
   "end_time": "2024-09-06T05:06:38.643618",
   "environment_variables": {},
   "exception": null,
   "input_path": "__notebook__.ipynb",
   "output_path": "__notebook__.ipynb",
   "parameters": {},
   "start_time": "2024-09-06T05:05:33.949370",
   "version": "2.6.0"
  }
 },
 "nbformat": 4,
 "nbformat_minor": 5
}
